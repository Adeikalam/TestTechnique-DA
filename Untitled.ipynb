{
 "cells": [
  {
   "cell_type": "code",
   "execution_count": 1,
   "id": "6cd27d68",
   "metadata": {},
   "outputs": [],
   "source": [
    "import pandas as pd\n",
    "from pandas_profiling import ProfileReport"
   ]
  },
  {
   "cell_type": "code",
   "execution_count": 2,
   "id": "24a9a3a4",
   "metadata": {},
   "outputs": [],
   "source": [
    "df = pd.read_csv(\"train.csv\")"
   ]
  },
  {
   "cell_type": "code",
   "execution_count": 3,
   "id": "5373ecb1",
   "metadata": {
    "scrolled": true
   },
   "outputs": [
    {
     "data": {
      "application/vnd.jupyter.widget-view+json": {
       "model_id": "028b054353cd49e6987dd1030e542d78",
       "version_major": 2,
       "version_minor": 0
      },
      "text/plain": [
       "Summarize dataset:   0%|          | 0/5 [00:00<?, ?it/s]"
      ]
     },
     "metadata": {},
     "output_type": "display_data"
    },
    {
     "name": "stderr",
     "output_type": "stream",
     "text": [
      "C:\\Users\\Pierre\\Anaconda3\\envs\\testda\\lib\\site-packages\\multimethod\\__init__.py:315: FutureWarning: iteritems is deprecated and will be removed in a future version. Use .items instead.\n",
      "  return func(*args, **kwargs)\n",
      "C:\\Users\\Pierre\\Anaconda3\\envs\\testda\\lib\\site-packages\\multimethod\\__init__.py:315: FutureWarning: The default value of numeric_only in DataFrame.corr is deprecated. In a future version, it will default to False. Select only valid columns or specify the value of numeric_only to silence this warning.\n",
      "  return func(*args, **kwargs)\n"
     ]
    },
    {
     "data": {
      "application/vnd.jupyter.widget-view+json": {
       "model_id": "4c18eab8e3624d6488f58a78ff69fb2d",
       "version_major": 2,
       "version_minor": 0
      },
      "text/plain": [
       "Generate report structure:   0%|          | 0/1 [00:00<?, ?it/s]"
      ]
     },
     "metadata": {},
     "output_type": "display_data"
    },
    {
     "data": {
      "application/vnd.jupyter.widget-view+json": {
       "model_id": "a79af92077514812983a20e88fe212f6",
       "version_major": 2,
       "version_minor": 0
      },
      "text/plain": [
       "Render HTML:   0%|          | 0/1 [00:00<?, ?it/s]"
      ]
     },
     "metadata": {},
     "output_type": "display_data"
    },
    {
     "data": {
      "application/vnd.jupyter.widget-view+json": {
       "model_id": "4890f96bf1a94be98118904eaa687b4c",
       "version_major": 2,
       "version_minor": 0
      },
      "text/plain": [
       "Export report to file:   0%|          | 0/1 [00:00<?, ?it/s]"
      ]
     },
     "metadata": {},
     "output_type": "display_data"
    }
   ],
   "source": [
    "profile = ProfileReport(df, title=\"Pandas Profiling Report\")\n",
    "profile.to_file(\"train_profiling.html\")"
   ]
  },
  {
   "cell_type": "code",
   "execution_count": 4,
   "id": "a8ae27b5",
   "metadata": {},
   "outputs": [
    {
     "data": {
      "text/html": [
       "<div>\n",
       "<style scoped>\n",
       "    .dataframe tbody tr th:only-of-type {\n",
       "        vertical-align: middle;\n",
       "    }\n",
       "\n",
       "    .dataframe tbody tr th {\n",
       "        vertical-align: top;\n",
       "    }\n",
       "\n",
       "    .dataframe thead th {\n",
       "        text-align: right;\n",
       "    }\n",
       "</style>\n",
       "<table border=\"1\" class=\"dataframe\">\n",
       "  <thead>\n",
       "    <tr style=\"text-align: right;\">\n",
       "      <th></th>\n",
       "      <th>id</th>\n",
       "      <th>AP</th>\n",
       "      <th>creation_date_answer</th>\n",
       "      <th>situation</th>\n",
       "      <th>ctc</th>\n",
       "      <th>location</th>\n",
       "      <th>gc_id</th>\n",
       "      <th>gc_label</th>\n",
       "      <th>creation_date_global</th>\n",
       "      <th>id_group</th>\n",
       "      <th>...</th>\n",
       "      <th>fruit_situation_label</th>\n",
       "      <th>fruits_or_vegetables</th>\n",
       "      <th>number_of_fruit</th>\n",
       "      <th>id_group_3</th>\n",
       "      <th>creation_date_request</th>\n",
       "      <th>hobby</th>\n",
       "      <th>id_group_4</th>\n",
       "      <th>ville</th>\n",
       "      <th>green_vegetables</th>\n",
       "      <th>vegetable_type</th>\n",
       "    </tr>\n",
       "  </thead>\n",
       "  <tbody>\n",
       "    <tr>\n",
       "      <th>0</th>\n",
       "      <td>cb7a4e0dd0777</td>\n",
       "      <td>f</td>\n",
       "      <td>2019-03-13 07:00:52.562</td>\n",
       "      <td>30</td>\n",
       "      <td>NaN</td>\n",
       "      <td>100</td>\n",
       "      <td>40</td>\n",
       "      <td>B</td>\n",
       "      <td>2019-03-13 07:03:13.632</td>\n",
       "      <td>b6a3d931cbbaf</td>\n",
       "      <td>...</td>\n",
       "      <td>jzy</td>\n",
       "      <td>t</td>\n",
       "      <td>1</td>\n",
       "      <td>bc3a12cac647f</td>\n",
       "      <td>2019-03-13 07:00:52.562</td>\n",
       "      <td>football</td>\n",
       "      <td>b78bd3c9f945c</td>\n",
       "      <td>Saint-Leu</td>\n",
       "      <td>f</td>\n",
       "      <td>NaN</td>\n",
       "    </tr>\n",
       "    <tr>\n",
       "      <th>1</th>\n",
       "      <td>e78e3915f3e30</td>\n",
       "      <td>f</td>\n",
       "      <td>2019-01-07 13:45:55.741</td>\n",
       "      <td>-1</td>\n",
       "      <td>f</td>\n",
       "      <td>95</td>\n",
       "      <td>40</td>\n",
       "      <td>B</td>\n",
       "      <td>2018-12-18 18:28:41.942</td>\n",
       "      <td>1b35749232404</td>\n",
       "      <td>...</td>\n",
       "      <td>hetz</td>\n",
       "      <td>t</td>\n",
       "      <td>1</td>\n",
       "      <td>79aa2c96bd0fc</td>\n",
       "      <td>2019-01-07 13:45:55.741</td>\n",
       "      <td>football</td>\n",
       "      <td>6fed1653be26d</td>\n",
       "      <td>Créteil</td>\n",
       "      <td>f</td>\n",
       "      <td>NaN</td>\n",
       "    </tr>\n",
       "    <tr>\n",
       "      <th>2</th>\n",
       "      <td>8e65ba155f983</td>\n",
       "      <td>f</td>\n",
       "      <td>2019-01-25 14:01:07.041</td>\n",
       "      <td>-1</td>\n",
       "      <td>f</td>\n",
       "      <td>34</td>\n",
       "      <td>20</td>\n",
       "      <td>D</td>\n",
       "      <td>2018-01-17 13:12:05.124</td>\n",
       "      <td>8f7612ff2c9cc</td>\n",
       "      <td>...</td>\n",
       "      <td>ag</td>\n",
       "      <td>NaN</td>\n",
       "      <td>-1</td>\n",
       "      <td>4b634a698cc8e</td>\n",
       "      <td>2019-01-25 14:01:07.041</td>\n",
       "      <td>football</td>\n",
       "      <td>fb7b5da2ef839</td>\n",
       "      <td>Bordeaux</td>\n",
       "      <td>f</td>\n",
       "      <td>NaN</td>\n",
       "    </tr>\n",
       "    <tr>\n",
       "      <th>3</th>\n",
       "      <td>701e90ca03ce2</td>\n",
       "      <td>f</td>\n",
       "      <td>2019-01-16 14:35:11.432</td>\n",
       "      <td>10</td>\n",
       "      <td>f</td>\n",
       "      <td>45</td>\n",
       "      <td>40</td>\n",
       "      <td>B</td>\n",
       "      <td>2018-11-07 13:21:33.877</td>\n",
       "      <td>2e3620e03b5f3</td>\n",
       "      <td>...</td>\n",
       "      <td>ag</td>\n",
       "      <td>NaN</td>\n",
       "      <td>2</td>\n",
       "      <td>cccd30d947857</td>\n",
       "      <td>2019-01-16 14:35:11.432</td>\n",
       "      <td>football</td>\n",
       "      <td>3a230e52fb02e</td>\n",
       "      <td>Saint-Herblain</td>\n",
       "      <td>f</td>\n",
       "      <td>NaN</td>\n",
       "    </tr>\n",
       "    <tr>\n",
       "      <th>4</th>\n",
       "      <td>768fefec8609a</td>\n",
       "      <td>f</td>\n",
       "      <td>2019-02-11 14:25:37.331</td>\n",
       "      <td>10</td>\n",
       "      <td>f</td>\n",
       "      <td>95</td>\n",
       "      <td>100</td>\n",
       "      <td>H</td>\n",
       "      <td>2018-10-16 10:17:01.716</td>\n",
       "      <td>ac19c1e8abd0d</td>\n",
       "      <td>...</td>\n",
       "      <td>hetz</td>\n",
       "      <td>f</td>\n",
       "      <td>2</td>\n",
       "      <td>62769fb7addda</td>\n",
       "      <td>2019-02-11 14:25:37.331</td>\n",
       "      <td>football</td>\n",
       "      <td>94c376f28ea60</td>\n",
       "      <td>Drancy</td>\n",
       "      <td>f</td>\n",
       "      <td>NaN</td>\n",
       "    </tr>\n",
       "  </tbody>\n",
       "</table>\n",
       "<p>5 rows × 23 columns</p>\n",
       "</div>"
      ],
      "text/plain": [
       "              id AP     creation_date_answer  situation  ctc  location  gc_id  \\\n",
       "0  cb7a4e0dd0777  f  2019-03-13 07:00:52.562         30  NaN       100     40   \n",
       "1  e78e3915f3e30  f  2019-01-07 13:45:55.741         -1    f        95     40   \n",
       "2  8e65ba155f983  f  2019-01-25 14:01:07.041         -1    f        34     20   \n",
       "3  701e90ca03ce2  f  2019-01-16 14:35:11.432         10    f        45     40   \n",
       "4  768fefec8609a  f  2019-02-11 14:25:37.331         10    f        95    100   \n",
       "\n",
       "  gc_label     creation_date_global       id_group  ... fruit_situation_label  \\\n",
       "0        B  2019-03-13 07:03:13.632  b6a3d931cbbaf  ...                   jzy   \n",
       "1        B  2018-12-18 18:28:41.942  1b35749232404  ...                  hetz   \n",
       "2        D  2018-01-17 13:12:05.124  8f7612ff2c9cc  ...                    ag   \n",
       "3        B  2018-11-07 13:21:33.877  2e3620e03b5f3  ...                    ag   \n",
       "4        H  2018-10-16 10:17:01.716  ac19c1e8abd0d  ...                  hetz   \n",
       "\n",
       "  fruits_or_vegetables  number_of_fruit     id_group_3  \\\n",
       "0                    t                1  bc3a12cac647f   \n",
       "1                    t                1  79aa2c96bd0fc   \n",
       "2                  NaN               -1  4b634a698cc8e   \n",
       "3                  NaN                2  cccd30d947857   \n",
       "4                    f                2  62769fb7addda   \n",
       "\n",
       "     creation_date_request     hobby     id_group_4           ville  \\\n",
       "0  2019-03-13 07:00:52.562  football  b78bd3c9f945c       Saint-Leu   \n",
       "1  2019-01-07 13:45:55.741  football  6fed1653be26d         Créteil   \n",
       "2  2019-01-25 14:01:07.041  football  fb7b5da2ef839        Bordeaux   \n",
       "3  2019-01-16 14:35:11.432  football  3a230e52fb02e  Saint-Herblain   \n",
       "4  2019-02-11 14:25:37.331  football  94c376f28ea60          Drancy   \n",
       "\n",
       "  green_vegetables vegetable_type  \n",
       "0                f            NaN  \n",
       "1                f            NaN  \n",
       "2                f            NaN  \n",
       "3                f            NaN  \n",
       "4                f            NaN  \n",
       "\n",
       "[5 rows x 23 columns]"
      ]
     },
     "execution_count": 4,
     "metadata": {},
     "output_type": "execute_result"
    }
   ],
   "source": [
    "test = pd.read_csv(\"test.csv\")\n",
    "test.head()"
   ]
  },
  {
   "cell_type": "code",
   "execution_count": 5,
   "id": "c5c0e701",
   "metadata": {},
   "outputs": [],
   "source": [
    "intersections = {\n",
    "    'column' : [],\n",
    "    'intersection' : [],\n",
    "    'train_nunique' : [],\n",
    "    'test_nunique' : []\n",
    "}\n",
    "\n",
    "for column in df.columns:\n",
    "    if column != \"target\":\n",
    "        intersections['column'].append(column)\n",
    "        intersections['intersection'].append(len(set(test[column].values).intersection(df[column].values)))\n",
    "        intersections['train_nunique'].append(df[column].nunique())\n",
    "        intersections['test_nunique'].append(test[column].nunique())"
   ]
  },
  {
   "cell_type": "code",
   "execution_count": 6,
   "id": "eee4953d",
   "metadata": {},
   "outputs": [
    {
     "data": {
      "text/html": [
       "<div>\n",
       "<style scoped>\n",
       "    .dataframe tbody tr th:only-of-type {\n",
       "        vertical-align: middle;\n",
       "    }\n",
       "\n",
       "    .dataframe tbody tr th {\n",
       "        vertical-align: top;\n",
       "    }\n",
       "\n",
       "    .dataframe thead th {\n",
       "        text-align: right;\n",
       "    }\n",
       "</style>\n",
       "<table border=\"1\" class=\"dataframe\">\n",
       "  <thead>\n",
       "    <tr style=\"text-align: right;\">\n",
       "      <th></th>\n",
       "      <th>column</th>\n",
       "      <th>intersection</th>\n",
       "      <th>train_nunique</th>\n",
       "      <th>test_nunique</th>\n",
       "    </tr>\n",
       "  </thead>\n",
       "  <tbody>\n",
       "    <tr>\n",
       "      <th>0</th>\n",
       "      <td>id</td>\n",
       "      <td>0</td>\n",
       "      <td>25000</td>\n",
       "      <td>25000</td>\n",
       "    </tr>\n",
       "    <tr>\n",
       "      <th>1</th>\n",
       "      <td>AP</td>\n",
       "      <td>2</td>\n",
       "      <td>2</td>\n",
       "      <td>2</td>\n",
       "    </tr>\n",
       "    <tr>\n",
       "      <th>2</th>\n",
       "      <td>creation_date_answer</td>\n",
       "      <td>564</td>\n",
       "      <td>24278</td>\n",
       "      <td>24211</td>\n",
       "    </tr>\n",
       "    <tr>\n",
       "      <th>3</th>\n",
       "      <td>situation</td>\n",
       "      <td>8</td>\n",
       "      <td>8</td>\n",
       "      <td>8</td>\n",
       "    </tr>\n",
       "    <tr>\n",
       "      <th>4</th>\n",
       "      <td>ctc</td>\n",
       "      <td>3</td>\n",
       "      <td>2</td>\n",
       "      <td>2</td>\n",
       "    </tr>\n",
       "    <tr>\n",
       "      <th>5</th>\n",
       "      <td>location</td>\n",
       "      <td>98</td>\n",
       "      <td>99</td>\n",
       "      <td>99</td>\n",
       "    </tr>\n",
       "    <tr>\n",
       "      <th>6</th>\n",
       "      <td>gc_id</td>\n",
       "      <td>12</td>\n",
       "      <td>12</td>\n",
       "      <td>12</td>\n",
       "    </tr>\n",
       "    <tr>\n",
       "      <th>7</th>\n",
       "      <td>gc_label</td>\n",
       "      <td>12</td>\n",
       "      <td>12</td>\n",
       "      <td>12</td>\n",
       "    </tr>\n",
       "    <tr>\n",
       "      <th>8</th>\n",
       "      <td>creation_date_global</td>\n",
       "      <td>6845</td>\n",
       "      <td>15680</td>\n",
       "      <td>15714</td>\n",
       "    </tr>\n",
       "    <tr>\n",
       "      <th>9</th>\n",
       "      <td>id_group</td>\n",
       "      <td>6821</td>\n",
       "      <td>15844</td>\n",
       "      <td>15900</td>\n",
       "    </tr>\n",
       "    <tr>\n",
       "      <th>10</th>\n",
       "      <td>id_group_2</td>\n",
       "      <td>6884</td>\n",
       "      <td>15675</td>\n",
       "      <td>15717</td>\n",
       "    </tr>\n",
       "    <tr>\n",
       "      <th>11</th>\n",
       "      <td>favorite_fruit</td>\n",
       "      <td>2</td>\n",
       "      <td>2</td>\n",
       "      <td>2</td>\n",
       "    </tr>\n",
       "    <tr>\n",
       "      <th>12</th>\n",
       "      <td>fruit_situation_id</td>\n",
       "      <td>22</td>\n",
       "      <td>22</td>\n",
       "      <td>22</td>\n",
       "    </tr>\n",
       "    <tr>\n",
       "      <th>13</th>\n",
       "      <td>fruit_situation_label</td>\n",
       "      <td>22</td>\n",
       "      <td>21</td>\n",
       "      <td>21</td>\n",
       "    </tr>\n",
       "    <tr>\n",
       "      <th>14</th>\n",
       "      <td>fruits_or_vegetables</td>\n",
       "      <td>3</td>\n",
       "      <td>2</td>\n",
       "      <td>2</td>\n",
       "    </tr>\n",
       "    <tr>\n",
       "      <th>15</th>\n",
       "      <td>number_of_fruit</td>\n",
       "      <td>9</td>\n",
       "      <td>9</td>\n",
       "      <td>10</td>\n",
       "    </tr>\n",
       "    <tr>\n",
       "      <th>16</th>\n",
       "      <td>id_group_3</td>\n",
       "      <td>805</td>\n",
       "      <td>872</td>\n",
       "      <td>858</td>\n",
       "    </tr>\n",
       "    <tr>\n",
       "      <th>17</th>\n",
       "      <td>creation_date_request</td>\n",
       "      <td>559</td>\n",
       "      <td>24280</td>\n",
       "      <td>24211</td>\n",
       "    </tr>\n",
       "    <tr>\n",
       "      <th>18</th>\n",
       "      <td>hobby</td>\n",
       "      <td>3</td>\n",
       "      <td>3</td>\n",
       "      <td>3</td>\n",
       "    </tr>\n",
       "    <tr>\n",
       "      <th>19</th>\n",
       "      <td>id_group_4</td>\n",
       "      <td>6815</td>\n",
       "      <td>15831</td>\n",
       "      <td>15887</td>\n",
       "    </tr>\n",
       "    <tr>\n",
       "      <th>20</th>\n",
       "      <td>ville</td>\n",
       "      <td>402</td>\n",
       "      <td>564</td>\n",
       "      <td>543</td>\n",
       "    </tr>\n",
       "    <tr>\n",
       "      <th>21</th>\n",
       "      <td>green_vegetables</td>\n",
       "      <td>2</td>\n",
       "      <td>2</td>\n",
       "      <td>2</td>\n",
       "    </tr>\n",
       "    <tr>\n",
       "      <th>22</th>\n",
       "      <td>vegetable_type</td>\n",
       "      <td>7</td>\n",
       "      <td>6</td>\n",
       "      <td>6</td>\n",
       "    </tr>\n",
       "  </tbody>\n",
       "</table>\n",
       "</div>"
      ],
      "text/plain": [
       "                   column  intersection  train_nunique  test_nunique\n",
       "0                      id             0          25000         25000\n",
       "1                      AP             2              2             2\n",
       "2    creation_date_answer           564          24278         24211\n",
       "3               situation             8              8             8\n",
       "4                     ctc             3              2             2\n",
       "5                location            98             99            99\n",
       "6                   gc_id            12             12            12\n",
       "7                gc_label            12             12            12\n",
       "8    creation_date_global          6845          15680         15714\n",
       "9                id_group          6821          15844         15900\n",
       "10             id_group_2          6884          15675         15717\n",
       "11         favorite_fruit             2              2             2\n",
       "12     fruit_situation_id            22             22            22\n",
       "13  fruit_situation_label            22             21            21\n",
       "14   fruits_or_vegetables             3              2             2\n",
       "15        number_of_fruit             9              9            10\n",
       "16             id_group_3           805            872           858\n",
       "17  creation_date_request           559          24280         24211\n",
       "18                  hobby             3              3             3\n",
       "19             id_group_4          6815          15831         15887\n",
       "20                  ville           402            564           543\n",
       "21       green_vegetables             2              2             2\n",
       "22         vegetable_type             7              6             6"
      ]
     },
     "execution_count": 6,
     "metadata": {},
     "output_type": "execute_result"
    }
   ],
   "source": [
    "pd.DataFrame(intersections)"
   ]
  },
  {
   "cell_type": "code",
   "execution_count": 7,
   "id": "009939a0",
   "metadata": {},
   "outputs": [
    {
     "data": {
      "text/html": [
       "<div>\n",
       "<style scoped>\n",
       "    .dataframe tbody tr th:only-of-type {\n",
       "        vertical-align: middle;\n",
       "    }\n",
       "\n",
       "    .dataframe tbody tr th {\n",
       "        vertical-align: top;\n",
       "    }\n",
       "\n",
       "    .dataframe thead th {\n",
       "        text-align: right;\n",
       "    }\n",
       "</style>\n",
       "<table border=\"1\" class=\"dataframe\">\n",
       "  <thead>\n",
       "    <tr style=\"text-align: right;\">\n",
       "      <th></th>\n",
       "      <th>creation_date_answer</th>\n",
       "      <th>creation_date_global</th>\n",
       "      <th>creation_date_request</th>\n",
       "    </tr>\n",
       "  </thead>\n",
       "  <tbody>\n",
       "    <tr>\n",
       "      <th>0</th>\n",
       "      <td>2019-03-13 11:14:42.549</td>\n",
       "      <td>2019-01-17 10:50:57.767</td>\n",
       "      <td>2019-03-13 11:14:42.549</td>\n",
       "    </tr>\n",
       "    <tr>\n",
       "      <th>1</th>\n",
       "      <td>2019-03-21 14:27:32.441</td>\n",
       "      <td>2018-08-20 05:57:51.038</td>\n",
       "      <td>2019-03-21 14:27:32.441</td>\n",
       "    </tr>\n",
       "    <tr>\n",
       "      <th>2</th>\n",
       "      <td>2019-03-15 17:49:50.67</td>\n",
       "      <td>2018-12-20 13:45:51.752</td>\n",
       "      <td>2019-03-15 17:49:50.67</td>\n",
       "    </tr>\n",
       "    <tr>\n",
       "      <th>3</th>\n",
       "      <td>2019-01-07 08:19:29.114</td>\n",
       "      <td>2018-07-21 10:28:49.386</td>\n",
       "      <td>2019-01-07 08:19:29.114</td>\n",
       "    </tr>\n",
       "    <tr>\n",
       "      <th>4</th>\n",
       "      <td>2019-02-03 17:57:22.926</td>\n",
       "      <td>2018-12-07 19:59:26.968</td>\n",
       "      <td>2019-02-03 17:57:22.926</td>\n",
       "    </tr>\n",
       "    <tr>\n",
       "      <th>...</th>\n",
       "      <td>...</td>\n",
       "      <td>...</td>\n",
       "      <td>...</td>\n",
       "    </tr>\n",
       "    <tr>\n",
       "      <th>24995</th>\n",
       "      <td>2019-03-21 16:50:00</td>\n",
       "      <td>2019-03-16 10:58:47.728</td>\n",
       "      <td>2019-03-21 16:50:00</td>\n",
       "    </tr>\n",
       "    <tr>\n",
       "      <th>24996</th>\n",
       "      <td>2019-02-15 21:12:58.495</td>\n",
       "      <td>2018-09-15 09:44:56.995</td>\n",
       "      <td>2019-02-15 21:12:58.495</td>\n",
       "    </tr>\n",
       "    <tr>\n",
       "      <th>24997</th>\n",
       "      <td>2019-01-03 10:39:40.683</td>\n",
       "      <td>2018-09-20 13:19:07.214</td>\n",
       "      <td>2019-01-03 10:39:40.683</td>\n",
       "    </tr>\n",
       "    <tr>\n",
       "      <th>24998</th>\n",
       "      <td>2019-01-17 12:45:02.132</td>\n",
       "      <td>2018-11-04 17:35:07.482</td>\n",
       "      <td>2019-01-17 12:45:02.132</td>\n",
       "    </tr>\n",
       "    <tr>\n",
       "      <th>24999</th>\n",
       "      <td>2019-02-26 09:25:15.449</td>\n",
       "      <td>2018-10-11 14:48:51.208</td>\n",
       "      <td>2019-02-26 09:25:15.449</td>\n",
       "    </tr>\n",
       "  </tbody>\n",
       "</table>\n",
       "<p>25000 rows × 3 columns</p>\n",
       "</div>"
      ],
      "text/plain": [
       "          creation_date_answer     creation_date_global  \\\n",
       "0      2019-03-13 11:14:42.549  2019-01-17 10:50:57.767   \n",
       "1      2019-03-21 14:27:32.441  2018-08-20 05:57:51.038   \n",
       "2       2019-03-15 17:49:50.67  2018-12-20 13:45:51.752   \n",
       "3      2019-01-07 08:19:29.114  2018-07-21 10:28:49.386   \n",
       "4      2019-02-03 17:57:22.926  2018-12-07 19:59:26.968   \n",
       "...                        ...                      ...   \n",
       "24995      2019-03-21 16:50:00  2019-03-16 10:58:47.728   \n",
       "24996  2019-02-15 21:12:58.495  2018-09-15 09:44:56.995   \n",
       "24997  2019-01-03 10:39:40.683  2018-09-20 13:19:07.214   \n",
       "24998  2019-01-17 12:45:02.132  2018-11-04 17:35:07.482   \n",
       "24999  2019-02-26 09:25:15.449  2018-10-11 14:48:51.208   \n",
       "\n",
       "         creation_date_request  \n",
       "0      2019-03-13 11:14:42.549  \n",
       "1      2019-03-21 14:27:32.441  \n",
       "2       2019-03-15 17:49:50.67  \n",
       "3      2019-01-07 08:19:29.114  \n",
       "4      2019-02-03 17:57:22.926  \n",
       "...                        ...  \n",
       "24995      2019-03-21 16:50:00  \n",
       "24996  2019-02-15 21:12:58.495  \n",
       "24997  2019-01-03 10:39:40.683  \n",
       "24998  2019-01-17 12:45:02.132  \n",
       "24999  2019-02-26 09:25:15.449  \n",
       "\n",
       "[25000 rows x 3 columns]"
      ]
     },
     "execution_count": 7,
     "metadata": {},
     "output_type": "execute_result"
    }
   ],
   "source": [
    "date_data = df[['creation_date_answer', 'creation_date_global', 'creation_date_request']].copy()\n",
    "date_data"
   ]
  },
  {
   "cell_type": "code",
   "execution_count": 13,
   "id": "e242f3f8",
   "metadata": {},
   "outputs": [],
   "source": [
    "import matplotlib.pyplot as plt\n",
    "%matplotlib inline"
   ]
  },
  {
   "cell_type": "code",
   "execution_count": 14,
   "id": "bd0a25e4",
   "metadata": {},
   "outputs": [],
   "source": [
    "for column in date_data.columns:\n",
    "    date_data[column] = pd.to_datetime(date_data[column])"
   ]
  },
  {
   "cell_type": "code",
   "execution_count": 17,
   "id": "e89544e6",
   "metadata": {},
   "outputs": [
    {
     "data": {
      "text/plain": [
       "<seaborn.axisgrid.FacetGrid at 0x1c1f37b2f70>"
      ]
     },
     "execution_count": 17,
     "metadata": {},
     "output_type": "execute_result"
    },
    {
     "data": {
      "image/png": "[encoded data removed]",
      "text/plain": [
       "<Figure size 500x500 with 1 Axes>"
      ]
     },
     "metadata": {},
     "output_type": "display_data"
    }
   ],
   "source": [
    "import seaborn as sns\n",
    "sns.displot((date_data['creation_date_answer'] - date_data['creation_date_global']).dt.days/30)"
   ]
  },
  {
   "cell_type": "code",
   "execution_count": 35,
   "id": "a5e8330c",
   "metadata": {},
   "outputs": [
    {
     "data": {
      "text/plain": [
       "array([2019], dtype=int64)"
      ]
     },
     "execution_count": 35,
     "metadata": {},
     "output_type": "execute_result"
    }
   ],
   "source": [
    "date_data['creation_date_request'].dt.year.unique()"
   ]
  },
  {
   "cell_type": "code",
   "execution_count": 37,
   "id": "9b02ece7",
   "metadata": {},
   "outputs": [
    {
     "data": {
      "text/plain": [
       "array([2019], dtype=int64)"
      ]
     },
     "execution_count": 37,
     "metadata": {},
     "output_type": "execute_result"
    }
   ],
   "source": [
    "pd.to_datetime(test['creation_date_request']).dt.year.unique()"
   ]
  },
  {
   "cell_type": "code",
   "execution_count": 43,
   "id": "a2b78355",
   "metadata": {},
   "outputs": [
    {
     "data": {
      "text/plain": [
       "0        24986\n",
       "6754         1\n",
       "24788        1\n",
       "28859        1\n",
       "84600        1\n",
       "18341        1\n",
       "8935         1\n",
       "6956         1\n",
       "10721        1\n",
       "60743        1\n",
       "30554        1\n",
       "9988         1\n",
       "55317        1\n",
       "49472        1\n",
       "20432        1\n",
       "dtype: int64"
      ]
     },
     "execution_count": 43,
     "metadata": {},
     "output_type": "execute_result"
    }
   ],
   "source": [
    "(date_data['creation_date_answer'] - date_data['creation_date_request']).dt.seconds.value_counts()"
   ]
  },
  {
   "cell_type": "code",
   "execution_count": 44,
   "id": "7efbc202",
   "metadata": {},
   "outputs": [
    {
     "data": {
      "text/plain": [
       "0        24987\n",
       "11340        1\n",
       "50977        1\n",
       "49542        1\n",
       "50352        1\n",
       "47874        1\n",
       "4498         1\n",
       "75784        1\n",
       "43896        1\n",
       "31774        1\n",
       "74276        1\n",
       "56410        1\n",
       "50304        1\n",
       "84840        1\n",
       "dtype: int64"
      ]
     },
     "execution_count": 44,
     "metadata": {},
     "output_type": "execute_result"
    }
   ],
   "source": [
    "(pd.to_datetime(test['creation_date_answer']) - pd.to_datetime(test['creation_date_request'])).dt.seconds.value_counts()"
   ]
  },
  {
   "cell_type": "code",
   "execution_count": null,
   "id": "16eb2d64",
   "metadata": {},
   "outputs": [],
   "source": []
  },
  {
   "cell_type": "code",
   "execution_count": null,
   "id": "0f7b964f",
   "metadata": {},
   "outputs": [],
   "source": []
  }
 ],
 "metadata": {
  "kernelspec": {
   "display_name": "Python 3 (ipykernel)",
   "language": "python",
   "name": "python3"
  },
  "language_info": {
   "codemirror_mode": {
    "name": "ipython",
    "version": 3
   },
   "file_extension": ".py",
   "mimetype": "text/x-python",
   "name": "python",
   "nbconvert_exporter": "python",
   "pygments_lexer": "ipython3",
   "version": "3.9.13"
  },
  "nbTranslate": {
   "displayLangs": [
    "*"
   ],
   "hotkey": "alt-t",
   "langInMainMenu": true,
   "sourceLang": "en",
   "targetLang": "fr",
   "useGoogleTranslate": true
  }
 },
 "nbformat": 4,
 "nbformat_minor": 5
}
